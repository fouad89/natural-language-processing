{
 "cells": [
  {
   "cell_type": "code",
   "execution_count": 4,
   "metadata": {},
   "outputs": [],
   "source": [
    "import re"
   ]
  },
  {
   "cell_type": "code",
   "execution_count": 2,
   "metadata": {},
   "outputs": [],
   "source": [
    "# 1) Write a Python program to check that a string \n",
    "# contains only a certain set of characters (in this case a-z, A-Z and 0-9)."
   ]
  },
  {
   "cell_type": "code",
   "execution_count": 17,
   "metadata": {},
   "outputs": [],
   "source": [
    "text = \"hello world this is real_life. What is the meaning. buzz rhymez the meaning is 42 ending.\""
   ]
  },
  {
   "cell_type": "code",
   "execution_count": 18,
   "metadata": {},
   "outputs": [
    {
     "data": {
      "text/plain": [
       "['hello',\n",
       " 'world',\n",
       " 'this',\n",
       " 'is',\n",
       " 'real',\n",
       " 'life',\n",
       " 'hat',\n",
       " 'is',\n",
       " 'the',\n",
       " 'meaning',\n",
       " 'buzz',\n",
       " 'rhymez',\n",
       " 'the',\n",
       " 'meaning',\n",
       " 'is',\n",
       " '42',\n",
       " 'ending']"
      ]
     },
     "execution_count": 18,
     "metadata": {},
     "output_type": "execute_result"
    }
   ],
   "source": [
    "p1 = re.compile(r\"[0-9a-zAZ]+\")\n",
    "re.findall(p1, text)"
   ]
  },
  {
   "cell_type": "code",
   "execution_count": 19,
   "metadata": {},
   "outputs": [],
   "source": [
    "# 2) Write a Python program that matches a string that has an a followed by zero or more b's\n",
    "p2 = re.compile(r\"ab*\")"
   ]
  },
  {
   "cell_type": "code",
   "execution_count": 20,
   "metadata": {},
   "outputs": [],
   "source": [
    "# 3) Write a Python program that matches a string that has an a followed by one or more b's\n",
    "p3 = re.compile(r\"ab+\")"
   ]
  },
  {
   "cell_type": "code",
   "execution_count": 21,
   "metadata": {},
   "outputs": [],
   "source": [
    "# 4) Write a Python program that matches a string that has an a followed by zero or one 'b'\n",
    "p4 = re.compile(r\"a?\")"
   ]
  },
  {
   "cell_type": "code",
   "execution_count": 22,
   "metadata": {},
   "outputs": [],
   "source": [
    "# 5) Write a Python program that matches a string that has an a followed by three 'b'\n",
    "p5 = re.compile(r\"ab{3}\")"
   ]
  },
  {
   "cell_type": "code",
   "execution_count": 23,
   "metadata": {},
   "outputs": [],
   "source": [
    "# 6) Write a Python program that matches a string that has an a followed by two to three 'b'.\n",
    "p6 = re.compile(r\"ab{2,3}\")"
   ]
  },
  {
   "cell_type": "code",
   "execution_count": 17,
   "metadata": {},
   "outputs": [
    {
     "data": {
      "text/plain": [
       "['hello_world', 'real_life']"
      ]
     },
     "execution_count": 17,
     "metadata": {},
     "output_type": "execute_result"
    }
   ],
   "source": [
    "\n",
    "# 7) Write a Python program to find sequences of lowercase letters joined with a underscore.\n",
    "p7 = re.compile(r\"[a-z]+_+[a-z]+\")\n",
    "re.findall(p7, t7)"
   ]
  },
  {
   "cell_type": "code",
   "execution_count": 21,
   "metadata": {},
   "outputs": [],
   "source": [
    "# 8) Write a Python program to find the sequences of one upper case letter followed by lower case letters.\n",
    "p8 = re.compile(r\"[A-Z]{1}[a-z]+\")"
   ]
  },
  {
   "cell_type": "code",
   "execution_count": 22,
   "metadata": {},
   "outputs": [],
   "source": [
    "# 9) Write a Python program that matches a string that has an 'a' followed by anything, ending in 'b'.\n",
    "p9 = re.compile(r\"a.*b$\")"
   ]
  },
  {
   "cell_type": "code",
   "execution_count": 30,
   "metadata": {},
   "outputs": [
    {
     "data": {
      "text/plain": [
       "['hello']"
      ]
     },
     "execution_count": 30,
     "metadata": {},
     "output_type": "execute_result"
    }
   ],
   "source": [
    "# 10) Write a Python program that matches a word at the beginning of a string.\n",
    "p10 = re.compile(r\"^\\w+\")\n",
    "re.findall(p10, text)"
   ]
  },
  {
   "cell_type": "code",
   "execution_count": 33,
   "metadata": {},
   "outputs": [
    {
     "data": {
      "text/plain": [
       "['ending.']"
      ]
     },
     "execution_count": 33,
     "metadata": {},
     "output_type": "execute_result"
    }
   ],
   "source": [
    "# 11) Write a Python program that matches a word at the end of string, with optional punctuation.\n",
    "p11 = re.compile(r\"(\\w+[\\W]?)$\")\n",
    "re.findall(p11, text)"
   ]
  },
  {
   "cell_type": "code",
   "execution_count": 39,
   "metadata": {},
   "outputs": [
    {
     "data": {
      "text/plain": [
       "['buzz', 'rhymez']"
      ]
     },
     "execution_count": 39,
     "metadata": {},
     "output_type": "execute_result"
    }
   ],
   "source": [
    "# 12) Write a Python program that matches a word containing 'z'\n",
    "p12 = re.compile(r\"\\w*[z]+\\w*\")\n",
    "re.findall(p12, text)"
   ]
  },
  {
   "cell_type": "code",
   "execution_count": 38,
   "metadata": {},
   "outputs": [
    {
     "data": {
      "text/plain": [
       "['buzz']"
      ]
     },
     "execution_count": 38,
     "metadata": {},
     "output_type": "execute_result"
    }
   ],
   "source": [
    "# 13) Write a Python program that matches a word containing 'z', not at the start or end of the word.\n",
    "\n",
    "p13 = re.compile(r\"\\w+[z]+\\w+\")\n",
    "re.findall(p13, text)\n"
   ]
  },
  {
   "cell_type": "code",
   "execution_count": 45,
   "metadata": {},
   "outputs": [
    {
     "data": {
      "text/plain": [
       "['hello',\n",
       " 'world',\n",
       " 'this',\n",
       " 'is',\n",
       " 'real_life',\n",
       " 'What',\n",
       " 'is',\n",
       " 'the',\n",
       " 'meaning',\n",
       " 'buzz',\n",
       " 'rhymez',\n",
       " 'the',\n",
       " 'meaning',\n",
       " 'is',\n",
       " '42',\n",
       " 'ending']"
      ]
     },
     "execution_count": 45,
     "metadata": {},
     "output_type": "execute_result"
    }
   ],
   "source": [
    "# 14) Write a Python program to match a string that contains only upper and lowercase letters, numbers, and underscores.\n",
    "p14 = re.compile(r\"(\\w+)\")\n",
    "re.findall(p14, text)"
   ]
  },
  {
   "cell_type": "code",
   "execution_count": 46,
   "metadata": {},
   "outputs": [],
   "source": [
    "# 15) Write a Python program where a string will start with a specific number.\n",
    "p15 = re.compile(r\"^[0-9]+\")"
   ]
  },
  {
   "cell_type": "code",
   "execution_count": 47,
   "metadata": {},
   "outputs": [],
   "source": [
    "# 16) Write a Python program to remove leading zeros from an IP address"
   ]
  },
  {
   "cell_type": "code",
   "execution_count": 48,
   "metadata": {},
   "outputs": [],
   "source": [
    "# 17) Write a Python program to check for a number at the end of a string.\n",
    "p17 = re.compile(r\"[0-9].$\")"
   ]
  },
  {
   "cell_type": "code",
   "execution_count": 49,
   "metadata": {},
   "outputs": [],
   "source": [
    "# 18) Write a Python program to search the numbers (0-9) of length between 1 to 3 in a given string.\n",
    "\n",
    "p18 = re.compile(r\"[0-9]{1,3}\")"
   ]
  },
  {
   "cell_type": "code",
   "execution_count": 80,
   "metadata": {},
   "outputs": [
    {
     "name": "stdout",
     "output_type": "stream",
     "text": [
      "<re.Match object; span=(15, 19), match=' fox'>\n"
     ]
    }
   ],
   "source": [
    "# 19) Write a Python program to search some literals strings in a string. Go to the editor Sample text \n",
    "# : 'The quick brown fox jumps over the lazy dog.' Searched words : 'fox', 'dog', 'horse'\n",
    "t19 = \"The quick brown fox jumps over the lazy dog\"\n",
    "p19 = re.compile(r\"(\\sdog. | horse | fox)\")\n",
    "for i in p19.finditer(t19):\n",
    "    print(i)"
   ]
  },
  {
   "cell_type": "code",
   "execution_count": 81,
   "metadata": {},
   "outputs": [
    {
     "data": {
      "text/plain": [
       "<re.Match object; span=(16, 19), match='fox'>"
      ]
     },
     "execution_count": 81,
     "metadata": {},
     "output_type": "execute_result"
    }
   ],
   "source": [
    "# 20) Write a Python program to search a literals string in a string and also find \n",
    "# the location within the original string where the pattern occurs\n",
    "# Sample text : \n",
    "# 'The quick brown fox jumps over the lazy dog.' Searched words : 'fox'\n",
    "p20 = re.compile(r\"(fox)\")\n",
    "re.search(p20, t19)"
   ]
  },
  {
   "cell_type": "code",
   "execution_count": 82,
   "metadata": {},
   "outputs": [
    {
     "data": {
      "text/plain": [
       "['exercises', 'exercises', 'exercises']"
      ]
     },
     "execution_count": 82,
     "metadata": {},
     "output_type": "execute_result"
    }
   ],
   "source": [
    "# 21) Write a Python program to find the substrings within a string.Sample text :\n",
    "# 'Python exercises, PHP exercises, C# exercises'\n",
    "# Pattern :'exercises'\n",
    "# Note: There are two instances of exercises in the input string.\n",
    "t21 = 'Python exercises, PHP exercises, C# exercises'\n",
    "p21 = re.compile(r\"exercises\")\n",
    "re.findall(p21, t21)"
   ]
  },
  {
   "cell_type": "code",
   "execution_count": 2,
   "metadata": {},
   "outputs": [],
   "source": [
    "# 22) Write a Python program to find the occurrence and position of the substrings within a string.\n"
   ]
  },
  {
   "cell_type": "code",
   "execution_count": 7,
   "metadata": {},
   "outputs": [
    {
     "name": "stdout",
     "output_type": "stream",
     "text": [
      "hello world this is real_life. What is the meaning. buzz rhymez the meaning is 42 ending.\n"
     ]
    },
    {
     "data": {
      "text/plain": [
       "'hello_world_this_is_real_life._What_is_the_meaning._buzz_rhymez_the_meaning_is_42_ending.'"
      ]
     },
     "execution_count": 7,
     "metadata": {},
     "output_type": "execute_result"
    }
   ],
   "source": [
    "# 23) Write a Python program to replace whitespaces with an underscore and vice versa.\n",
    "def space_to_underscore(text):\n",
    "    \n",
    "    pattern = re.compile(r\"\\s+\")\n",
    "    \n",
    "    return re.sub(pattern, '_', text)\n",
    "\n",
    "print(text)\n",
    "space_to_underscore(text)"
   ]
  },
  {
   "cell_type": "code",
   "execution_count": 10,
   "metadata": {},
   "outputs": [
    {
     "data": {
      "text/plain": [
       "[('123', '4', '5'), ('2012', '01', '01'), ('2012', '01', '31')]"
      ]
     },
     "execution_count": 10,
     "metadata": {},
     "output_type": "execute_result"
    }
   ],
   "source": [
    "# 24) Write a Python program to extract year, month and date from a an url.\n",
    "def extract_date(url):\n",
    "    # format /dddd/dd/dd\n",
    "    pattern = re.compile(r\"\\D.?(\\d{2,4}).?(\\d{1,2}).?(\\d{1,2}).?\")\n",
    "    return re.findall(pattern, url)\n",
    "\n",
    "url_test = \"http://example.com/users/12345/bids?start=2012-01-01&end=2012-01-31\"\n",
    "extract_date(url_test)"
   ]
  },
  {
   "cell_type": "code",
   "execution_count": 34,
   "metadata": {},
   "outputs": [
    {
     "data": {
      "text/plain": [
       "['01-03-2020', '07-05-2013']"
      ]
     },
     "execution_count": 34,
     "metadata": {},
     "output_type": "execute_result"
    }
   ],
   "source": [
    "# 25) Write a Python program to convert a date of yyyy-mm-dd format to dd-mm-yyyy format.\n",
    "def convert_format(date):\n",
    "    converted_dates = []\n",
    "    p1 = re.compile(r\"(\\d{4})-?(\\d{2})-(\\d{2})\")\n",
    "    # p2 = re.compile(r\"\\d{2}-?\\d{2}-?\\d{4}\")\n",
    "    for i in re.finditer(p1, date):\n",
    "        split_date = i.group().split('-')\n",
    "        y, m, d = split_date[0], split_date[1], split_date[2]\n",
    "        res = f\"{d}-{m}-{y}\"\n",
    "        converted_dates.append(res)\n",
    "    return converted_dates\n",
    "\n",
    "test_date = \"hello 2020-03-01, 2013-05-07\"\n",
    "convert_format(test_date)"
   ]
  },
  {
   "cell_type": "code",
   "execution_count": 40,
   "metadata": {},
   "outputs": [
    {
     "name": "stdout",
     "output_type": "stream",
     "text": [
      "Py Py\n"
     ]
    }
   ],
   "source": [
    "# 26) Write a Python program to match if two words from a list of words starting with letter 'P'.\n",
    "def match_p(words):\n",
    "    p = re.compile(r\"(P\\w+)\\W+(P\\w+)\")\n",
    "    for word in words:\n",
    "        if re.match(p, word):\n",
    "            print(word)\n",
    "\n",
    "test = [\"Py Py\", \"Python Java\", \"Python C Python\"]\n",
    "match_p(test)\n",
    "\n"
   ]
  },
  {
   "cell_type": "code",
   "execution_count": 5,
   "metadata": {},
   "outputs": [
    {
     "name": "stdout",
     "output_type": "stream",
     "text": [
      "['12', '15', '2500']\n"
     ]
    }
   ],
   "source": [
    "# 27) Write a Python program to separate and print the numbers of a given string\n",
    "\n",
    "def find_nums(text):\n",
    "    p = re.compile(r'\\d+')\n",
    "    num_list = re.findall(p, text)\n",
    "    return num_list\n",
    "\n",
    "t27 = '12, 15 hello 2500'\n",
    "print(find_nums(t27))"
   ]
  },
  {
   "cell_type": "code",
   "execution_count": 9,
   "metadata": {},
   "outputs": [
    {
     "data": {
      "text/plain": [
       "['am', 'efficient', 'and', 'error']"
      ]
     },
     "execution_count": 9,
     "metadata": {},
     "output_type": "execute_result"
    }
   ],
   "source": [
    "# 28) Write a Python program to find all words starting with 'a' or 'e' in a given string.\n",
    "def words(text):\n",
    "    p = re.compile(r'\\b[ae]\\w+')\n",
    "    return re.findall(p, text)\n",
    "\n",
    "t28 = 'hello am, efficient.and it is a error'\n",
    "words(t28)"
   ]
  },
  {
   "cell_type": "code",
   "execution_count": 33,
   "metadata": {},
   "outputs": [
    {
     "name": "stdout",
     "output_type": "stream",
     "text": [
      "Help on built-in function dir in module builtins:\n",
      "\n",
      "dir(...)\n",
      "    dir([object]) -> list of strings\n",
      "    \n",
      "    If called without an argument, return the names in the current scope.\n",
      "    Else, return an alphabetized list of names comprising (some of) the attributes\n",
      "    of the given object, and of attributes reachable from it.\n",
      "    If the object supplies a method named __dir__, it will be used; otherwise\n",
      "    the default dir() logic is used and returns:\n",
      "      for a module object: the module's attributes.\n",
      "      for a class object:  its attributes, and recursively the attributes\n",
      "        of its bases.\n",
      "      for any other object: its attributes, its class's attributes, and\n",
      "        recursively the attributes of its class's base classes.\n",
      "\n"
     ]
    }
   ],
   "source": [
    "help(dir)"
   ]
  },
  {
   "cell_type": "code",
   "execution_count": 35,
   "metadata": {},
   "outputs": [
    {
     "data": {
      "text/plain": [
       "['__kwdefaults__',\n",
       " '__le__',\n",
       " '__lt__',\n",
       " '__module__',\n",
       " '__name__',\n",
       " '__ne__',\n",
       " '__new__',\n",
       " '__qualname__',\n",
       " '__reduce__',\n",
       " '__reduce_ex__',\n",
       " '__repr__',\n",
       " '__setattr__',\n",
       " '__sizeof__',\n",
       " '__str__',\n",
       " '__subclasshook__']"
      ]
     },
     "execution_count": 35,
     "metadata": {},
     "output_type": "execute_result"
    }
   ],
   "source": []
  },
  {
   "cell_type": "code",
   "execution_count": 40,
   "metadata": {},
   "outputs": [
    {
     "name": "stdout",
     "output_type": "stream",
     "text": [
      "Number 12, spanning (0, 2)\n",
      "Number 15, spanning (4, 6)\n",
      "Number 2500, spanning (13, 17)\n"
     ]
    }
   ],
   "source": [
    "# 29) Write a Python program to separate and print the numbers and their position of a\n",
    "# given string.\n",
    "\n",
    "def find_nums_w_pos(text):\n",
    "    p = re.compile(r'\\d+')\n",
    "    for i in re.finditer(p, text):\n",
    "        print(f\"Number {i.group()}, spanning {i.span()}\")\n",
    "\n",
    "find_nums_w_pos(t27)"
   ]
  },
  {
   "cell_type": "code",
   "execution_count": 43,
   "metadata": {},
   "outputs": [
    {
     "name": "stdout",
     "output_type": "stream",
     "text": [
      "my Rd. is the road to the Rd.\n"
     ]
    }
   ],
   "source": [
    "# 30) Write a Python program to abbreviate 'Road' as 'Rd.' in a given string.\n",
    "def rep_road(text):\n",
    "    p = re.compile(r'\\bRoad\\b')\n",
    "    return re.sub(p, 'Rd.', text)\n",
    "t30 = 'my Road is the road to the Road'\n",
    "print(rep_road(t30))\n"
   ]
  },
  {
   "cell_type": "code",
   "execution_count": null,
   "metadata": {},
   "outputs": [],
   "source": []
  }
 ],
 "metadata": {
  "interpreter": {
   "hash": "c3b2f1a75643b3c0cdc87e7c088a09343abe05890ff5ab744eba432b5d60e4d9"
  },
  "kernelspec": {
   "display_name": "Python 3.8.8 64-bit ('base': conda)",
   "name": "python3"
  },
  "language_info": {
   "codemirror_mode": {
    "name": "ipython",
    "version": 3
   },
   "file_extension": ".py",
   "mimetype": "text/x-python",
   "name": "python",
   "nbconvert_exporter": "python",
   "pygments_lexer": "ipython3",
   "version": "3.8.8"
  },
  "orig_nbformat": 4
 },
 "nbformat": 4,
 "nbformat_minor": 2
}
