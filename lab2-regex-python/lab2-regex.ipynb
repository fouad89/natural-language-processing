{
 "cells": [
  {
   "cell_type": "code",
   "execution_count": 1,
   "source": [
    "import re"
   ],
   "outputs": [],
   "metadata": {}
  },
  {
   "cell_type": "code",
   "execution_count": 2,
   "source": [
    "# 1) Write a Python program to check that a string \n",
    "# contains only a certain set of characters (in this case a-z, A-Z and 0-9)."
   ],
   "outputs": [],
   "metadata": {}
  },
  {
   "cell_type": "code",
   "execution_count": 42,
   "source": [
    "text = \"hello world this is real_life. What is the meaning. buzz rhymez the meaning is 42 ending.\""
   ],
   "outputs": [],
   "metadata": {}
  },
  {
   "cell_type": "code",
   "execution_count": 43,
   "source": [
    "p1 = re.compile(r\"[0-9a-zAZ]+\")\n",
    "re.findall(p1, text)"
   ],
   "outputs": [
    {
     "output_type": "execute_result",
     "data": {
      "text/plain": [
       "['hello',\n",
       " 'world',\n",
       " 'this',\n",
       " 'is',\n",
       " 'real',\n",
       " 'life',\n",
       " 'hat',\n",
       " 'is',\n",
       " 'the',\n",
       " 'meaning',\n",
       " 'buzz',\n",
       " 'rhymez',\n",
       " 'the',\n",
       " 'meaning',\n",
       " 'is',\n",
       " '42',\n",
       " 'ending']"
      ]
     },
     "metadata": {},
     "execution_count": 43
    }
   ],
   "metadata": {}
  },
  {
   "cell_type": "code",
   "execution_count": 44,
   "source": [
    "# 2) Write a Python program that matches a string that has an a followed by zero or more b's\n",
    "p2 = re.compile(r\"ab*\")"
   ],
   "outputs": [],
   "metadata": {}
  },
  {
   "cell_type": "code",
   "execution_count": 11,
   "source": [
    "# 3) Write a Python program that matches a string that has an a followed by one or more b's\n",
    "p3 = re.compile(r\"ab+\")"
   ],
   "outputs": [],
   "metadata": {}
  },
  {
   "cell_type": "code",
   "execution_count": 12,
   "source": [
    "# 4) Write a Python program that matches a string that has an a followed by zero or one 'b'\n",
    "p4 = re.compile(r\"a?\")"
   ],
   "outputs": [],
   "metadata": {}
  },
  {
   "cell_type": "code",
   "execution_count": 14,
   "source": [
    "# 5) Write a Python program that matches a string that has an a followed by three 'b'\n",
    "p5 = re.compile(r\"ab{3}\")"
   ],
   "outputs": [],
   "metadata": {}
  },
  {
   "cell_type": "code",
   "execution_count": 15,
   "source": [
    "# 6) Write a Python program that matches a string that has an a followed by two to three 'b'.\n",
    "p6 = re.compile(r\"ab{2,3}\")"
   ],
   "outputs": [],
   "metadata": {}
  },
  {
   "cell_type": "code",
   "execution_count": 17,
   "source": [
    "\n",
    "# 7) Write a Python program to find sequences of lowercase letters joined with a underscore.\n",
    "p7 = re.compile(r\"[a-z]+_+[a-z]+\")\n",
    "re.findall(p7, t7)"
   ],
   "outputs": [
    {
     "output_type": "execute_result",
     "data": {
      "text/plain": [
       "['hello_world', 'real_life']"
      ]
     },
     "metadata": {},
     "execution_count": 17
    }
   ],
   "metadata": {}
  },
  {
   "cell_type": "code",
   "execution_count": 21,
   "source": [
    "# 8) Write a Python program to find the sequences of one upper case letter followed by lower case letters.\n",
    "p8 = re.compile(r\"[A-Z]{1}[a-z]+\")"
   ],
   "outputs": [],
   "metadata": {}
  },
  {
   "cell_type": "code",
   "execution_count": 22,
   "source": [
    "# 9) Write a Python program that matches a string that has an 'a' followed by anything, ending in 'b'.\n",
    "p9 = re.compile(r\"a.*b$\")"
   ],
   "outputs": [],
   "metadata": {}
  },
  {
   "cell_type": "code",
   "execution_count": 30,
   "source": [
    "# 10) Write a Python program that matches a word at the beginning of a string.\n",
    "p10 = re.compile(r\"^\\w+\")\n",
    "re.findall(p10, text)"
   ],
   "outputs": [
    {
     "output_type": "execute_result",
     "data": {
      "text/plain": [
       "['hello']"
      ]
     },
     "metadata": {},
     "execution_count": 30
    }
   ],
   "metadata": {}
  },
  {
   "cell_type": "code",
   "execution_count": 33,
   "source": [
    "# 11) Write a Python program that matches a word at the end of string, with optional punctuation.\n",
    "p11 = re.compile(r\"(\\w+[\\W]?)$\")\n",
    "re.findall(p11, text)"
   ],
   "outputs": [
    {
     "output_type": "execute_result",
     "data": {
      "text/plain": [
       "['ending.']"
      ]
     },
     "metadata": {},
     "execution_count": 33
    }
   ],
   "metadata": {}
  },
  {
   "cell_type": "code",
   "execution_count": 39,
   "source": [
    "# 12) Write a Python program that matches a word containing 'z'\n",
    "p12 = re.compile(r\"\\w*[z]+\\w*\")\n",
    "re.findall(p12, text)"
   ],
   "outputs": [
    {
     "output_type": "execute_result",
     "data": {
      "text/plain": [
       "['buzz', 'rhymez']"
      ]
     },
     "metadata": {},
     "execution_count": 39
    }
   ],
   "metadata": {}
  },
  {
   "cell_type": "code",
   "execution_count": 38,
   "source": [
    "# 13) Write a Python program that matches a word containing 'z', not at the start or end of the word.\n",
    "\n",
    "p13 = re.compile(r\"\\w+[z]+\\w+\")\n",
    "re.findall(p13, text)\n"
   ],
   "outputs": [
    {
     "output_type": "execute_result",
     "data": {
      "text/plain": [
       "['buzz']"
      ]
     },
     "metadata": {},
     "execution_count": 38
    }
   ],
   "metadata": {}
  },
  {
   "cell_type": "code",
   "execution_count": 45,
   "source": [
    "# 14) Write a Python program to match a string that contains only upper and lowercase letters, numbers, and underscores.\n",
    "p14 = re.compile(r\"(\\w+)\")\n",
    "re.findall(p14, text)"
   ],
   "outputs": [
    {
     "output_type": "execute_result",
     "data": {
      "text/plain": [
       "['hello',\n",
       " 'world',\n",
       " 'this',\n",
       " 'is',\n",
       " 'real_life',\n",
       " 'What',\n",
       " 'is',\n",
       " 'the',\n",
       " 'meaning',\n",
       " 'buzz',\n",
       " 'rhymez',\n",
       " 'the',\n",
       " 'meaning',\n",
       " 'is',\n",
       " '42',\n",
       " 'ending']"
      ]
     },
     "metadata": {},
     "execution_count": 45
    }
   ],
   "metadata": {}
  },
  {
   "cell_type": "code",
   "execution_count": 46,
   "source": [
    "# 15) Write a Python program where a string will start with a specific number.\n",
    "p15 = re.compile(r\"^[0-9]+\")"
   ],
   "outputs": [],
   "metadata": {}
  },
  {
   "cell_type": "code",
   "execution_count": 47,
   "source": [
    "# 16) Write a Python program to remove leading zeros from an IP address"
   ],
   "outputs": [],
   "metadata": {}
  },
  {
   "cell_type": "code",
   "execution_count": 48,
   "source": [
    "# 17) Write a Python program to check for a number at the end of a string.\n",
    "p17 = re.compile(r\"[0-9].$\")"
   ],
   "outputs": [],
   "metadata": {}
  },
  {
   "cell_type": "code",
   "execution_count": 49,
   "source": [
    "# 18) Write a Python program to search the numbers (0-9) of length between 1 to 3 in a given string.\n",
    "\n",
    "p18 = re.compile(r\"[0-9]{1,3}\")"
   ],
   "outputs": [],
   "metadata": {}
  },
  {
   "cell_type": "code",
   "execution_count": 80,
   "source": [
    "# 19) Write a Python program to search some literals strings in a string. Go to the editor Sample text \n",
    "# : 'The quick brown fox jumps over the lazy dog.' Searched words : 'fox', 'dog', 'horse'\n",
    "t19 = \"The quick brown fox jumps over the lazy dog\"\n",
    "p19 = re.compile(r\"(\\sdog. | horse | fox)\")\n",
    "for i in p19.finditer(t19):\n",
    "    print(i)"
   ],
   "outputs": [
    {
     "output_type": "stream",
     "name": "stdout",
     "text": [
      "<re.Match object; span=(15, 19), match=' fox'>\n"
     ]
    }
   ],
   "metadata": {}
  },
  {
   "cell_type": "code",
   "execution_count": 81,
   "source": [
    "# 20) Write a Python program to search a literals string in a string and also find \n",
    "# the location within the original string where the pattern occurs\n",
    "# Sample text : \n",
    "# 'The quick brown fox jumps over the lazy dog.' Searched words : 'fox'\n",
    "p20 = re.compile(r\"(fox)\")\n",
    "re.search(p20, t19)"
   ],
   "outputs": [
    {
     "output_type": "execute_result",
     "data": {
      "text/plain": [
       "<re.Match object; span=(16, 19), match='fox'>"
      ]
     },
     "metadata": {},
     "execution_count": 81
    }
   ],
   "metadata": {}
  },
  {
   "cell_type": "code",
   "execution_count": 82,
   "source": [
    "# 21) Write a Python program to find the substrings within a string.Sample text :\n",
    "# 'Python exercises, PHP exercises, C# exercises'\n",
    "# Pattern :'exercises'\n",
    "# Note: There are two instances of exercises in the input string.\n",
    "t21 = 'Python exercises, PHP exercises, C# exercises'\n",
    "p21 = re.compile(r\"exercises\")\n",
    "re.findall(p21, t21)"
   ],
   "outputs": [
    {
     "output_type": "execute_result",
     "data": {
      "text/plain": [
       "['exercises', 'exercises', 'exercises']"
      ]
     },
     "metadata": {},
     "execution_count": 82
    }
   ],
   "metadata": {}
  },
  {
   "cell_type": "code",
   "execution_count": null,
   "source": [
    "# 22) Write a Python program to find the occurrence and position of the substrings within a string.\n"
   ],
   "outputs": [],
   "metadata": {}
  }
 ],
 "metadata": {
  "orig_nbformat": 4,
  "language_info": {
   "name": "python",
   "version": "3.8.8",
   "mimetype": "text/x-python",
   "codemirror_mode": {
    "name": "ipython",
    "version": 3
   },
   "pygments_lexer": "ipython3",
   "nbconvert_exporter": "python",
   "file_extension": ".py"
  },
  "kernelspec": {
   "name": "python3",
   "display_name": "Python 3.8.8 64-bit ('base': conda)"
  },
  "interpreter": {
   "hash": "016f416f43c7de9d71e7f049375c6b8b903fae571cb02d2ed6c16dadea121115"
  }
 },
 "nbformat": 4,
 "nbformat_minor": 2
}