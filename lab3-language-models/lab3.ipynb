{
 "cells": [
  {
   "cell_type": "code",
   "execution_count": 1,
   "metadata": {},
   "outputs": [],
   "source": [
    "# 1. Frequency\n",
    "# Given an input sentence, calculate the frequency ( p(w) ) of each word ( w ) in the sentence according to the formula:\n",
    "# 2. Unigram\n",
    "from collections import Counter"
   ]
  },
  {
   "cell_type": "code",
   "execution_count": 4,
   "metadata": {},
   "outputs": [],
   "source": [
    "def frequency(s):\n",
    "    freqs = {}\n",
    "    for w in s.split():\n",
    "        if w not in freqs.keys():\n",
    "            freqs[w] = 1\n",
    "        else:\n",
    "            freqs[w] += 1\n",
    "    num_tokens = sum(list(freqs.values()))\n",
    "    for w, f in freqs.items():\n",
    "        freqs[w] = f / num_tokens\n",
    "    return freqs\n"
   ]
  },
  {
   "cell_type": "code",
   "execution_count": 5,
   "metadata": {},
   "outputs": [
    {
     "data": {
      "text/plain": [
       "{'the': 0.2222222222222222,\n",
       " 'cat': 0.2222222222222222,\n",
       " 'sat': 0.1111111111111111,\n",
       " 'on': 0.1111111111111111,\n",
       " 'mat': 0.1111111111111111,\n",
       " 'with': 0.1111111111111111,\n",
       " 'a': 0.1111111111111111}"
      ]
     },
     "execution_count": 5,
     "metadata": {},
     "output_type": "execute_result"
    }
   ],
   "source": [
    "frequency(sentence)"
   ]
  },
  {
   "cell_type": "code",
   "execution_count": 6,
   "metadata": {},
   "outputs": [
    {
     "name": "stdout",
     "output_type": "stream",
     "text": [
      "The word 'the' frequency is: 0.2222222222222222\n",
      "The word 'cat' frequency is: 0.2222222222222222\n",
      "The word 'sat' frequency is: 0.1111111111111111\n",
      "The word 'on' frequency is: 0.1111111111111111\n",
      "The word 'mat' frequency is: 0.1111111111111111\n",
      "The word 'with' frequency is: 0.1111111111111111\n",
      "The word 'a' frequency is: 0.1111111111111111\n"
     ]
    }
   ],
   "source": [
    "sentence = \"the cat sat on the mat with a cat\"\n",
    "frequencies = frequency(sentence)\n",
    "for w, f in frequencies.items():\n",
    "    print(f\"The word '{w}' frequency is: {f}\")"
   ]
  },
  {
   "cell_type": "code",
   "execution_count": 7,
   "metadata": {},
   "outputs": [],
   "source": [
    "# 2. Unigram LM\n",
    "# Given an input sentence ( s ), calculate the unigram language model of the sentence according to the formula:"
   ]
  },
  {
   "cell_type": "code",
   "execution_count": 8,
   "metadata": {},
   "outputs": [],
   "source": [
    "def unigram(s):\n",
    "    freqs = {}\n",
    "    res = 1\n",
    "    for w in s.split():\n",
    "        if w not in freqs.keys():\n",
    "            freqs[w] = 1\n",
    "        else:\n",
    "            freqs[w] += 1\n",
    "\n",
    "    num_tokens = sum(list(freqs.values()))\n",
    "    for w, f in freqs.items():\n",
    "        freqs[w] = f / num_tokens\n",
    "        res *= freqs[w]\n",
    "\n",
    "        print (res)\n",
    "        \n",
    "    return res\n"
   ]
  },
  {
   "cell_type": "code",
   "execution_count": 9,
   "metadata": {},
   "outputs": [
    {
     "name": "stdout",
     "output_type": "stream",
     "text": [
      "0.2222222222222222\n",
      "0.04938271604938271\n",
      "0.0054869684499314125\n",
      "0.0006096631611034902\n",
      "6.774035123372113e-05\n",
      "7.526705692635681e-06\n",
      "8.363006325150756e-07\n"
     ]
    }
   ],
   "source": [
    "unigram_model_freqs = unigram(sentence)"
   ]
  },
  {
   "cell_type": "code",
   "execution_count": 10,
   "metadata": {},
   "outputs": [
    {
     "data": {
      "text/plain": [
       "8.363006325150756e-07"
      ]
     },
     "execution_count": 10,
     "metadata": {},
     "output_type": "execute_result"
    }
   ],
   "source": [
    "unigram_model_freqs"
   ]
  },
  {
   "cell_type": "code",
   "execution_count": 11,
   "metadata": {},
   "outputs": [],
   "source": [
    "# 3. Bigram LM Following Question 1&2, write a program to compute bigram probability of a sentence. The input to your program is a \n",
    "# file containing a number of sentences and the output is the probability of one sentence. To compute bigram relative frequency use this formula:"
   ]
  },
  {
   "cell_type": "code",
   "execution_count": 22,
   "metadata": {},
   "outputs": [],
   "source": [
    "s2 = '<s> a cat sat on the mat sat mat </s>'\n",
    "def bigram_probability(s):\n",
    "    \"\"\"transforming sentence into\n",
    "\n",
    "    Args:\n",
    "        s (str): a sentence\n",
    "\n",
    "    Returns:\n",
    "        list: list of bigrams\n",
    "    \"\"\"\n",
    "    res = 1\n",
    "    counts = {}\n",
    "    bigrams = []\n",
    "    bigram_counts = {}\n",
    "    tokens = s.split()\n",
    "    # getting the individual token counts\n",
    "    for w in s.split():\n",
    "        if w not in counts.keys():\n",
    "            counts[w] = 1\n",
    "        else:\n",
    "            counts[w] += 1\n",
    "    # creating a list of possible bigrams\n",
    "    for i in range(len(tokens) -1 ):\n",
    "        bigrams.append((tokens[i], tokens[i+1]))\n",
    "    # print(bigrams)\n",
    "\n",
    "    # creating a dictionary of bigram counts\n",
    "    for item in bigrams:\n",
    "        if item not in bigram_counts:\n",
    "            bigram_counts[item] = 1\n",
    "        else:\n",
    "            bigram_counts[item] +=1 \n",
    "    # calculating p(s) = p(w_2|w_1) x p(w_3|w_1)....p(w_n|w_n-1)\n",
    "    for item in bigrams:\n",
    "        res *= bigram_counts[item] / counts[item[0]]\n",
    "    return res\n",
    "\n"
   ]
  },
  {
   "cell_type": "code",
   "execution_count": 23,
   "metadata": {},
   "outputs": [
    {
     "data": {
      "text/plain": [
       "0.0625"
      ]
     },
     "execution_count": 23,
     "metadata": {},
     "output_type": "execute_result"
    }
   ],
   "source": [
    "bigram_prob = bigram_probability(s2)\n",
    "\n",
    "bigram_prob"
   ]
  },
  {
   "cell_type": "code",
   "execution_count": 24,
   "metadata": {},
   "outputs": [
    {
     "data": {
      "text/plain": [
       "1.0"
      ]
     },
     "execution_count": 24,
     "metadata": {},
     "output_type": "execute_result"
    }
   ],
   "source": [
    "s3 = \"<s> a cat sat on the car </s>\"\n",
    "bigram_probability(s3)"
   ]
  },
  {
   "cell_type": "code",
   "execution_count": 25,
   "metadata": {},
   "outputs": [],
   "source": [
    "# 4. Smoothing First, try another sentence using your program of Question 3: \n",
    "#     Calculate the probability of the sentence “<s> a cat sat on the car </s>”. What result do you get? \n",
    "#     Think about what the reason is and why we need a smoothing technique in language modelling.\n",
    "#     Second, modify your function of bigram relative frequency according to the add-one smoothing formula:\n",
    "#     Where"
   ]
  },
  {
   "cell_type": "code",
   "execution_count": 26,
   "metadata": {},
   "outputs": [],
   "source": [
    "def bigram_probability_smoothing(s):\n",
    "    \"\"\"transforming sentence into\n",
    "\n",
    "    Args:\n",
    "        s (str): a sentence\n",
    "\n",
    "    Returns:\n",
    "        list: list of bigrams\n",
    "    \"\"\"\n",
    "    res = 1\n",
    "    counts = {}\n",
    "    bigrams = []\n",
    "    bigram_counts = {}\n",
    "    tokens = s.split()\n",
    "    # getting the individual token counts\n",
    "    for w in s.split():\n",
    "        if w not in counts.keys():\n",
    "            counts[w] = 1\n",
    "        else:\n",
    "            counts[w] += 1\n",
    "    # creating a list of possible bigrams\n",
    "    for i in range(len(tokens) -1 ):\n",
    "        bigrams.append((tokens[i], tokens[i+1]))\n",
    "    # print(bigrams)\n",
    "\n",
    "    # creating a dictionary of bigram counts\n",
    "    for item in bigrams:\n",
    "        if item not in bigram_counts:\n",
    "            bigram_counts[item] = 1\n",
    "        else:\n",
    "            bigram_counts[item] +=1 \n",
    "    # calculating p(s) = p(w_2|w_1) x p(w_3|w_1)....p(w_n|w_n-1)\n",
    "    for item in bigrams:\n",
    "        res *= (bigram_counts[item] + 1) / (counts[item[0]] + len(set(s.split())))\n",
    "    return res"
   ]
  },
  {
   "cell_type": "code",
   "execution_count": 27,
   "metadata": {},
   "outputs": [
    {
     "data": {
      "text/plain": [
       "2.6761620240482418e-05"
      ]
     },
     "execution_count": 27,
     "metadata": {},
     "output_type": "execute_result"
    }
   ],
   "source": [
    "bigram_probability_smoothing(s3)"
   ]
  },
  {
   "cell_type": "code",
   "execution_count": 28,
   "metadata": {},
   "outputs": [
    {
     "data": {
      "text/plain": [
       "8.670764957916307e-07"
      ]
     },
     "execution_count": 28,
     "metadata": {},
     "output_type": "execute_result"
    }
   ],
   "source": [
    "bigram_probability_smoothing(s2)"
   ]
  },
  {
   "cell_type": "code",
   "execution_count": null,
   "metadata": {},
   "outputs": [],
   "source": []
  }
 ],
 "metadata": {
  "interpreter": {
   "hash": "c3b2f1a75643b3c0cdc87e7c088a09343abe05890ff5ab744eba432b5d60e4d9"
  },
  "kernelspec": {
   "display_name": "Python 3.8.8 64-bit ('base': conda)",
   "name": "python3"
  },
  "language_info": {
   "codemirror_mode": {
    "name": "ipython",
    "version": 3
   },
   "file_extension": ".py",
   "mimetype": "text/x-python",
   "name": "python",
   "nbconvert_exporter": "python",
   "pygments_lexer": "ipython3",
   "version": "3.8.8"
  },
  "orig_nbformat": 4
 },
 "nbformat": 4,
 "nbformat_minor": 2
}
