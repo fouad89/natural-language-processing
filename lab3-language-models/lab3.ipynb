{
 "cells": [
  {
   "cell_type": "code",
   "execution_count": 94,
   "metadata": {},
   "outputs": [],
   "source": [
    "# 1. Frequency\n",
    "# Given an input sentence, calculate the frequency ( p(w) ) of each word ( w ) in the sentence according to the formula:\n",
    "# 2. Unigram\n",
    "from collections import Counter"
   ]
  },
  {
   "cell_type": "code",
   "execution_count": 41,
   "metadata": {},
   "outputs": [],
   "source": [
    "def frequency(s):\n",
    "    freqs = {}\n",
    "    for w in s.split():\n",
    "        if w not in freqs.keys():\n",
    "            freqs[w] = 1\n",
    "        else:\n",
    "            freqs[w] += 1\n",
    "    num_tokens = sum(list(freqs.values()))\n",
    "    for w, f in freqs.items():\n",
    "        freqs[w] = f / num_tokens\n",
    "    return freqs\n"
   ]
  },
  {
   "cell_type": "code",
   "execution_count": 42,
   "metadata": {},
   "outputs": [
    {
     "name": "stdout",
     "output_type": "stream",
     "text": [
      "The word 'the' frequency is: 0.2222222222222222\n",
      "The word 'cat' frequency is: 0.2222222222222222\n",
      "The word 'sat' frequency is: 0.1111111111111111\n",
      "The word 'on' frequency is: 0.1111111111111111\n",
      "The word 'mat' frequency is: 0.1111111111111111\n",
      "The word 'with' frequency is: 0.1111111111111111\n",
      "The word 'a' frequency is: 0.1111111111111111\n"
     ]
    }
   ],
   "source": [
    "sentence = \"the cat sat on the mat with a cat\"\n",
    "frequencies = frequency(sentence)\n",
    "for w, f in frequencies.items():\n",
    "    print(f\"The word '{w}' frequency is: {f}\")"
   ]
  },
  {
   "cell_type": "code",
   "execution_count": 17,
   "metadata": {},
   "outputs": [],
   "source": [
    "# 2. Unigram LM\n",
    "# Given an input sentence ( s ), calculate the unigram language model of the sentence according to the formula:"
   ]
  },
  {
   "cell_type": "code",
   "execution_count": 56,
   "metadata": {},
   "outputs": [],
   "source": [
    "def unigram(s):\n",
    "    freqs = {}\n",
    "    res = 1\n",
    "    for w in s.split():\n",
    "        if w not in freqs.keys():\n",
    "            freqs[w] = 1\n",
    "        else:\n",
    "            freqs[w] += 1\n",
    "\n",
    "    num_tokens = sum(list(freqs.values()))\n",
    "    for w, f in freqs.items():\n",
    "        freqs[w] = f / num_tokens\n",
    "        res *= freqs[w]\n",
    "\n",
    "        print (res)\n",
    "        \n",
    "    return res\n"
   ]
  },
  {
   "cell_type": "code",
   "execution_count": 57,
   "metadata": {},
   "outputs": [
    {
     "name": "stdout",
     "output_type": "stream",
     "text": [
      "0.2222222222222222\n",
      "0.04938271604938271\n",
      "0.0054869684499314125\n",
      "0.0006096631611034902\n",
      "6.774035123372113e-05\n",
      "7.526705692635681e-06\n",
      "8.363006325150756e-07\n"
     ]
    }
   ],
   "source": [
    "unigram_model_freqs = unigram(sentence)"
   ]
  },
  {
   "cell_type": "code",
   "execution_count": 58,
   "metadata": {},
   "outputs": [
    {
     "data": {
      "text/plain": [
       "8.363006325150756e-07"
      ]
     },
     "execution_count": 58,
     "metadata": {},
     "output_type": "execute_result"
    }
   ],
   "source": [
    "unigram_model_freqs"
   ]
  },
  {
   "cell_type": "code",
   "execution_count": 59,
   "metadata": {},
   "outputs": [],
   "source": [
    "# 3. Bigram LM Following Question 1&2, write a program to compute bigram probability of a sentence. The input to your program is a \n",
    "# file containing a number of sentences and the output is the probability of one sentence. To compute bigram relative frequency use this formula:"
   ]
  },
  {
   "cell_type": "code",
   "execution_count": 90,
   "metadata": {},
   "outputs": [],
   "source": [
    "s2 = '<s> a cat sat on the mat sat mat </s>'\n",
    "def bigram_lm(s):\n",
    "    bigrams = []\n",
    "    tokens = s.split()\n",
    "    for i in range(len(tokens) -1 ):\n",
    "        bigrams.append((tokens[i], tokens[i+1]))\n",
    "        \n",
    "\n",
    "    return bigrams\n"
   ]
  },
  {
   "cell_type": "code",
   "execution_count": 92,
   "metadata": {},
   "outputs": [
    {
     "data": {
      "text/plain": [
       "{('<s>', 'a'): 1,\n",
       " ('a', 'cat'): 1,\n",
       " ('cat', 'sat'): 1,\n",
       " ('sat', 'on'): 1,\n",
       " ('on', 'the'): 1,\n",
       " ('the', 'mat'): 1,\n",
       " ('mat', 'sat'): 1,\n",
       " ('sat', 'mat'): 1,\n",
       " ('mat', '</s>'): 1}"
      ]
     },
     "execution_count": 92,
     "metadata": {},
     "output_type": "execute_result"
    }
   ],
   "source": [
    "bigram_list = bigram_lm(s2)\n",
    "bigram_counts = {}\n",
    "for item in bigram_list:\n",
    "    if item not in bigram_counts:\n",
    "        bigram_counts[item] = 1\n",
    "    else:\n",
    "        bigram_counts[item] +=1 \n",
    "bigram_counts"
   ]
  },
  {
   "cell_type": "code",
   "execution_count": 98,
   "metadata": {},
   "outputs": [],
   "source": [
    "s_counter = dict(Counter(s2.split()))"
   ]
  },
  {
   "cell_type": "code",
   "execution_count": 99,
   "metadata": {},
   "outputs": [],
   "source": [
    "bigram_list = bigram_lm(s2)"
   ]
  },
  {
   "cell_type": "code",
   "execution_count": 101,
   "metadata": {},
   "outputs": [
    {
     "name": "stdout",
     "output_type": "stream",
     "text": [
      "0.0625\n"
     ]
    }
   ],
   "source": [
    "res = 1\n",
    "for item in bigram_list:\n",
    "    res *= bigram_counts[item] / s_counter[item[0]]\n",
    "\n",
    "print(res)\n"
   ]
  },
  {
   "cell_type": "code",
   "execution_count": null,
   "metadata": {},
   "outputs": [],
   "source": []
  }
 ],
 "metadata": {
  "interpreter": {
   "hash": "c3b2f1a75643b3c0cdc87e7c088a09343abe05890ff5ab744eba432b5d60e4d9"
  },
  "kernelspec": {
   "display_name": "Python 3.8.8 64-bit ('base': conda)",
   "name": "python3"
  },
  "language_info": {
   "codemirror_mode": {
    "name": "ipython",
    "version": 3
   },
   "file_extension": ".py",
   "mimetype": "text/x-python",
   "name": "python",
   "nbconvert_exporter": "python",
   "pygments_lexer": "ipython3",
   "version": "3.8.8"
  },
  "orig_nbformat": 4
 },
 "nbformat": 4,
 "nbformat_minor": 2
}
