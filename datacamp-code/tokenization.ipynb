{
 "cells": [
  {
   "cell_type": "markdown",
   "source": [
    "## intorduction to tokenization\n",
    "turning strings or documents into tokens (smaller chuncks)<br>\n",
    "it makes it easier to mpa part of speech<br>\n",
    "matching common words<br>\n",
    "removing unwanted tokens<br>"
   ],
   "metadata": {}
  },
  {
   "cell_type": "code",
   "execution_count": 12,
   "source": [
    "# using nltk library\n",
    "import re\n",
    "from nltk.tokenize import word_tokenize"
   ],
   "outputs": [],
   "metadata": {}
  },
  {
   "cell_type": "code",
   "execution_count": 3,
   "source": [
    "word_tokenize('Hi there!')"
   ],
   "outputs": [
    {
     "output_type": "execute_result",
     "data": {
      "text/plain": [
       "['Hi', 'there', '!']"
      ]
     },
     "metadata": {},
     "execution_count": 3
    }
   ],
   "metadata": {}
  },
  {
   "cell_type": "markdown",
   "source": [
    "## Some nltk tokenizers \n",
    "<li>sent_tokenize: tokenize a document into sentences</li>\n",
    "<li>regexp_tokenize: tokenize a string or document based on regex giving more control </li>\n",
    "<li>TweetTokenizer: just for tweet tokenization</li>"
   ],
   "metadata": {}
  },
  {
   "cell_type": "code",
   "execution_count": 5,
   "source": [
    "scene_one = \"SCENE 1: [wind] [clop clop clop] \\nKING ARTHUR: Whoa there!  [clop clop clop] \\nSOLDIER #1: Halt!  Who goes there?\\nARTHUR: It is I, Arthur, son of Uther Pendragon, from the castle of Camelot.  King of the Britons, defeator of the Saxons, sovereign of all England!\\nSOLDIER #1: Pull the other one!\\nARTHUR: I am, ...  and this is my trusty servant Patsy.  We have ridden the length and breadth of the land in search of knights who will join me in my court at Camelot.  I must speak with your lord and master.\\nSOLDIER #1: What?  Ridden on a horse?\\nARTHUR: Yes!\\nSOLDIER #1: You're using coconuts!\\nARTHUR: What?\\nSOLDIER #1: You've got two empty halves of coconut and you're bangin' 'em together.\\nARTHUR: So?  We have ridden since the snows of winter covered this land, through the kingdom of Mercea, through--\\nSOLDIER #1: Where'd you get the coconuts?\\nARTHUR: We found them.\\nSOLDIER #1: Found them?  In Mercea?  The coconut's tropical!\\nARTHUR: What do you mean?\\nSOLDIER #1: Well, this is a temperate zone.\\nARTHUR: The swallow may fly south with the sun or the house martin or the plover may seek warmer climes in winter, yet these are not strangers to our land?\\nSOLDIER #1: Are you suggesting coconuts migrate?\\nARTHUR: Not at all.  They could be carried.\\nSOLDIER #1: What?  A swallow carrying a coconut?\\nARTHUR: It could grip it by the husk!\\nSOLDIER #1: It's not a question of where he grips it!  It's a simple question of weight ratios!  A five ounce bird could not carry a one pound coconut.\\nARTHUR: Well, it doesn't matter.  Will you go and tell your master that Arthur from the Court of Camelot is here.\\nSOLDIER #1: Listen.  In order to maintain air-speed velocity, a swallow needs to beat its wings forty-three times every second, right?\\nARTHUR: Please!\\nSOLDIER #1: Am I right?\\nARTHUR: I'm not interested!\\nSOLDIER #2: It could be carried by an African swallow!\\nSOLDIER #1: Oh, yeah, an African swallow maybe, but not a European swallow.  That's my point.\\nSOLDIER #2: Oh, yeah, I agree with that.\\nARTHUR: Will you ask your master if he wants to join my court at Camelot?!\\nSOLDIER #1: But then of course a-- African swallows are non-migratory.\\nSOLDIER #2: Oh, yeah...\\nSOLDIER #1: So they couldn't bring a coconut back anyway...  [clop clop clop] \\nSOLDIER #2: Wait a minute!  Supposing two swallows carried it together?\\nSOLDIER #1: No, they'd have to have it on a line.\\nSOLDIER #2: Well, simple!  They'd just use a strand of creeper!\\nSOLDIER #1: What, held under the dorsal guiding feathers?\\nSOLDIER #2: Well, why not?\\n\"\n",
    "#print(scene_one)"
   ],
   "outputs": [],
   "metadata": {}
  },
  {
   "cell_type": "code",
   "execution_count": 6,
   "source": [
    "from nltk.tokenize import word_tokenize, sent_tokenize"
   ],
   "outputs": [],
   "metadata": {}
  },
  {
   "cell_type": "code",
   "execution_count": 8,
   "source": [
    "# Split scene_one into sentences: sentences\n",
    "sentences = sent_tokenize(scene_one)\n",
    "print(sentences[:5]) # print 1st 5 sentences"
   ],
   "outputs": [
    {
     "output_type": "stream",
     "name": "stdout",
     "text": [
      "['SCENE 1: [wind] [clop clop clop] \\nKING ARTHUR: Whoa there!', '[clop clop clop] \\nSOLDIER #1: Halt!', 'Who goes there?', 'ARTHUR: It is I, Arthur, son of Uther Pendragon, from the castle of Camelot.', 'King of the Britons, defeator of the Saxons, sovereign of all England!']\n"
     ]
    }
   ],
   "metadata": {}
  },
  {
   "cell_type": "code",
   "execution_count": 9,
   "source": [
    "# Use word_tokenize to tokenize the fourth sentence: tokenized_sent\n",
    "tokenized_sent = word_tokenize(sentences[3])\n",
    "print(tokenized_sent)"
   ],
   "outputs": [
    {
     "output_type": "stream",
     "name": "stdout",
     "text": [
      "['ARTHUR', ':', 'It', 'is', 'I', ',', 'Arthur', ',', 'son', 'of', 'Uther', 'Pendragon', ',', 'from', 'the', 'castle', 'of', 'Camelot', '.']\n"
     ]
    }
   ],
   "metadata": {}
  },
  {
   "cell_type": "code",
   "execution_count": 10,
   "source": [
    "# Make a set of unique tokens in the entire scene: unique_tokens\n",
    "unique_tokens = set(word_tokenize(scene_one))\n",
    "print(unique_tokens)"
   ],
   "outputs": [
    {
     "output_type": "stream",
     "name": "stdout",
     "text": [
      "{'halves', 'warmer', 'these', 'They', 'needs', 'Am', 'Not', 'by', 'carrying', 'length', 'Whoa', 'Pull', 'The', 'bird', 'an', 'maybe', 'you', 'Found', 'Will', 'clop', 'Uther', ',', 'agree', 'beat', 'It', 'times', 'master', 'matter', 'yet', 'order', 'But', 'swallows', 'held', 'under', 'go', 'am', 'ratios', 'second', 'European', 'are', 'SCENE', 'You', 'strangers', 'of', 'Pendragon', 'That', 'Court', 'there', 'in', \"'em\", 'mean', 'from', 'sun', 'suggesting', 'plover', 'me', \"'\", 'be', 'weight', 'tell', 'the', 'strand', 'at', 'migrate', 'my', 'all', 'servant', 'ridden', 'grip', 'Yes', 'No', '#', 'goes', 'A', 'KING', 'search', 'two', 'Please', ':', 'empty', '?', 'ARTHUR', 'through', \"'m\", 'Patsy', 'wings', 'or', 'Oh', '...', 'since', 'question', 'forty-three', 'if', '1', 'yeah', 'bring', 'wind', 'south', 'son', 'carry', 'guiding', 'course', \"n't\", 'house', 'In', 'husk', 'Ridden', 'but', 'Who', 'Supposing', 'martin', '[', 'swallow', 'tropical', 'Well', 'it', 'use', 'coconuts', 'he', 'coconut', 'land', 'temperate', 'get', 'covered', 'Where', 'England', 'Arthur', 'and', '.', 'anyway', 'a', \"'ve\", 'Listen', 'kingdom', 'seek', 'African', 'that', '2', 'who', \"'s\", 'creeper', 'got', 'Wait', '!', 'snows', 'We', 'court', '--', 'I', 'maintain', 'So', 'could', 'climes', 'every', 'fly', 'our', 'ounce', 'this', 'pound', 'winter', 'speak', 'may', 'must', 'together', 'why', 'breadth', 'them', 'found', 'velocity', 'here', 'knights', 'air-speed', 'grips', 'SOLDIER', 'interested', 'minute', 'feathers', 'do', 'does', 'one', \"'d\", 'lord', 'where', 'wants', 'with', 'back', 'not', 'trusty', 'What', 'point', 'Saxons', 'using', 'have', 'then', 'right', 'Britons', 'Camelot', 'carried', 'horse', 'Are', 'ask', 'line', 'sovereign', 'on', 'its', 'bangin', \"'re\", 'simple', 'other', 'dorsal', 'King', 'join', 'zone', 'Halt', 'defeator', 'to', 'Mercea', 'five', 'they', 'is', 'your', 'will', ']', 'non-migratory', 'just', 'castle'}\n"
     ]
    }
   ],
   "metadata": {}
  },
  {
   "cell_type": "code",
   "execution_count": 17,
   "source": [
    "# Search for the first occurrence of \"coconuts\" in scene_one: match\n",
    "match = re.search(\"cocnuts\", scene_one) "
   ],
   "outputs": [],
   "metadata": {}
  },
  {
   "cell_type": "code",
   "execution_count": 18,
   "source": [
    "match"
   ],
   "outputs": [],
   "metadata": {}
  },
  {
   "cell_type": "code",
   "execution_count": 20,
   "source": [
    "# Find the script notation at the beginning of the fourth sentence and print it\n",
    "pattern2 = r\"[A-Z]+:\"\n",
    "print(re.match(pattern2, sentences[3]))"
   ],
   "outputs": [
    {
     "output_type": "stream",
     "name": "stdout",
     "text": [
      "<re.Match object; span=(0, 7), match='ARTHUR:'>\n"
     ]
    }
   ],
   "metadata": {}
  },
  {
   "cell_type": "code",
   "execution_count": null,
   "source": [],
   "outputs": [],
   "metadata": {}
  }
 ],
 "metadata": {
  "orig_nbformat": 4,
  "language_info": {
   "name": "python",
   "version": "3.8.8",
   "mimetype": "text/x-python",
   "codemirror_mode": {
    "name": "ipython",
    "version": 3
   },
   "pygments_lexer": "ipython3",
   "nbconvert_exporter": "python",
   "file_extension": ".py"
  },
  "kernelspec": {
   "name": "python3",
   "display_name": "Python 3.8.8 64-bit ('base': conda)"
  },
  "interpreter": {
   "hash": "016f416f43c7de9d71e7f049375c6b8b903fae571cb02d2ed6c16dadea121115"
  }
 },
 "nbformat": 4,
 "nbformat_minor": 2
}