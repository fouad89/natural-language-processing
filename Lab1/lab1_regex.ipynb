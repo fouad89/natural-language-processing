{
 "cells": [
  {
   "cell_type": "code",
   "execution_count": 1,
   "source": [
    "import re"
   ],
   "outputs": [],
   "metadata": {}
  },
  {
   "cell_type": "code",
   "execution_count": 3,
   "source": [
    "file = 'uncorpora_plain_20090831.tmx'"
   ],
   "outputs": [],
   "metadata": {}
  },
  {
   "cell_type": "code",
   "execution_count": 4,
   "source": [
    "\n",
    "with open(file, 'r') as f:\n",
    "    content = f.read()"
   ],
   "outputs": [],
   "metadata": {}
  },
  {
   "cell_type": "code",
   "execution_count": 6,
   "source": [
    "content.split('\\n')[:30]"
   ],
   "outputs": [
    {
     "output_type": "execute_result",
     "data": {
      "text/plain": [
       "['<?xml version=\"1.0\" encoding=\"UTF-8\"?>',\n",
       " '<tmx version=\"1.4b\">',\n",
       " '  <header segtype=\"paragraph\" creationtoolversion=\"1.0\" srclang=\"EN\" creationtool=\"ORESAligner\" datatype=\"plaintext\" o-tmf=\"ORES\" adminlang=\"en-us\"/>',\n",
       " '  <body>',\n",
       " '    <tu tuid=\"55_100:6\">',\n",
       " '      <prop type=\"session\">55</prop>',\n",
       " '      <prop type=\"committee\">3</prop>',\n",
       " '      <tuv xml:lang=\"EN\">',\n",
       " '        <seg>RESOLUTION 55/100</seg>',\n",
       " '      </tuv>',\n",
       " '      <tuv xml:lang=\"AR\">',\n",
       " '        <seg>القرار 55/100</seg>',\n",
       " '      </tuv>',\n",
       " '      <tuv xml:lang=\"ZH\">',\n",
       " '        <seg>第55/100号决议</seg>',\n",
       " '      </tuv>',\n",
       " '      <tuv xml:lang=\"FR\">',\n",
       " '        <seg>RÉSOLUTION 55/100</seg>',\n",
       " '      </tuv>',\n",
       " '      <tuv xml:lang=\"RU\">',\n",
       " '        <seg>РЕЗОЛЮЦИЯ 55/100</seg>',\n",
       " '      </tuv>',\n",
       " '      <tuv xml:lang=\"ES\">',\n",
       " '        <seg>RESOLUCIÓN 55/100</seg>',\n",
       " '      </tuv>',\n",
       " '    </tu>',\n",
       " '    <tu tuid=\"55_100:7\">',\n",
       " '      <tuv xml:lang=\"EN\">',\n",
       " '        <seg>Adopted at the 81st plenary meeting, on 4 December 2000, on the recommendation of the Committee (A/55/602/Add.2 and Corr.1, para. 94), by a recorded vote of 106 to 1, with 67 abstentions, as follows:</seg>',\n",
       " '      </tuv>']"
      ]
     },
     "metadata": {},
     "execution_count": 6
    }
   ],
   "metadata": {}
  },
  {
   "cell_type": "code",
   "execution_count": 7,
   "source": [
    "segments = re.compile(r\"<seg>\")\n"
   ],
   "outputs": [],
   "metadata": {}
  },
  {
   "cell_type": "code",
   "execution_count": 10,
   "source": [
    "len(re.findall(segments, content))"
   ],
   "outputs": [
    {
     "output_type": "execute_result",
     "data": {
      "text/plain": [
       "434034"
      ]
     },
     "metadata": {},
     "execution_count": 10
    }
   ],
   "metadata": {}
  },
  {
   "cell_type": "code",
   "execution_count": null,
   "source": [],
   "outputs": [],
   "metadata": {}
  }
 ],
 "metadata": {
  "orig_nbformat": 4,
  "language_info": {
   "name": "python",
   "version": "3.8.8",
   "mimetype": "text/x-python",
   "codemirror_mode": {
    "name": "ipython",
    "version": 3
   },
   "pygments_lexer": "ipython3",
   "nbconvert_exporter": "python",
   "file_extension": ".py"
  },
  "kernelspec": {
   "name": "python3",
   "display_name": "Python 3.8.8 64-bit ('base': conda)"
  },
  "interpreter": {
   "hash": "016f416f43c7de9d71e7f049375c6b8b903fae571cb02d2ed6c16dadea121115"
  }
 },
 "nbformat": 4,
 "nbformat_minor": 2
}